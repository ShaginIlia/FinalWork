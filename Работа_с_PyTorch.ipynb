{
  "nbformat": 4,
  "nbformat_minor": 0,
  "metadata": {
    "colab": {
      "provenance": []
    },
    "kernelspec": {
      "name": "python3",
      "display_name": "Python 3"
    },
    "language_info": {
      "name": "python"
    }
  },
  "cells": [
    {
      "cell_type": "code",
      "source": [
        "import torch\n",
        "from sklearn.datasets import load_iris\n",
        "from sklearn.model_selection import train_test_split"
      ],
      "metadata": {
        "id": "3rhJiwxhW2m2"
      },
      "execution_count": null,
      "outputs": []
    },
    {
      "cell_type": "markdown",
      "source": [
        "# Классификация с помощью PyTorch"
      ],
      "metadata": {
        "id": "8ld6PALKcp25"
      }
    },
    {
      "cell_type": "code",
      "source": [
        "iris = load_iris() # импортируем данные ирисов\n",
        "X_train, X_test, y_train, y_test = train_test_split(iris.data, iris.target, test_size=0.2, random_state=42) # делим данные на привычные наборы"
      ],
      "metadata": {
        "id": "WfYr7UwHcIq8"
      },
      "execution_count": null,
      "outputs": []
    },
    {
      "cell_type": "code",
      "source": [
        "X_train = torch.tensor(X_train).float()\n",
        "X_test = torch.tensor(X_test).float()\n",
        "y_train = torch.tensor(y_train)\n",
        "y_test = torch.tensor(y_test)\n",
        "# присваиваем выборки в тензоры для работы с PyTorch\n",
        "# нормализация данных\n",
        "mean = X_train.mean(dim=0)\n",
        "std = X_train.std(dim=0)\n",
        "X_train = (X_train - mean) / std\n",
        "X_test = (X_test - mean) / std"
      ],
      "metadata": {
        "id": "5gdmfUhncPCd"
      },
      "execution_count": null,
      "outputs": []
    },
    {
      "cell_type": "code",
      "source": [
        "model = torch.nn.Sequential( # строим модель классификации\n",
        "    torch.nn.Linear(in_features = 4, out_features =3),\n",
        "    torch.nn.Softmax(dim=1))"
      ],
      "metadata": {
        "id": "lFQYZflKcS81"
      },
      "execution_count": null,
      "outputs": []
    },
    {
      "cell_type": "code",
      "source": [
        "criterion = torch.nn.CrossEntropyLoss()\n",
        "optimizer = torch.optim.SGD(model.parameters(), lr=0.1)\n",
        "# обучаем модель, задаём 1000 эпох\n",
        "num_epochs = 1000\n",
        "for epoch in range(num_epochs):\n",
        "\n",
        "    y_pred = model(X_train)\n",
        "    loss = criterion(y_pred, y_train)\n",
        "\n",
        "    optimizer.zero_grad()\n",
        "    loss.backward()\n",
        "    optimizer.step()\n",
        "\n",
        "    if (epoch+1) % 100 == 0:\n",
        "        print(f'Epoch [{epoch+1}/{num_epochs}], Loss: {loss.item():.4f}')"
      ],
      "metadata": {
        "colab": {
          "base_uri": "https://localhost:8080/"
        },
        "id": "kSiu1Xu8cWVc",
        "outputId": "f06f0db5-8020-4af8-f8ff-d46354a70293"
      },
      "execution_count": null,
      "outputs": [
        {
          "output_type": "stream",
          "name": "stdout",
          "text": [
            "Epoch [100/1000], Loss: 0.6551\n",
            "Epoch [200/1000], Loss: 0.6503\n",
            "Epoch [300/1000], Loss: 0.6461\n",
            "Epoch [400/1000], Loss: 0.6424\n",
            "Epoch [500/1000], Loss: 0.6390\n",
            "Epoch [600/1000], Loss: 0.6360\n",
            "Epoch [700/1000], Loss: 0.6332\n",
            "Epoch [800/1000], Loss: 0.6307\n",
            "Epoch [900/1000], Loss: 0.6285\n",
            "Epoch [1000/1000], Loss: 0.6264\n"
          ]
        }
      ]
    },
    {
      "cell_type": "code",
      "source": [
        "with torch.no_grad(): # оцениваем модель\n",
        "    y_pred = model(X_test)\n",
        "    _, predicted = torch.max(y_pred, dim=1)\n",
        "    accuracy = (predicted == y_test).float().mean()\n",
        "    print(f'Test Accuracy: {accuracy.item():.4f}')"
      ],
      "metadata": {
        "colab": {
          "base_uri": "https://localhost:8080/"
        },
        "id": "d9ST2q0zchvm",
        "outputId": "3cb26dc9-58e7-4a08-e05b-03cefe386d25"
      },
      "execution_count": null,
      "outputs": [
        {
          "output_type": "stream",
          "name": "stdout",
          "text": [
            "Test Accuracy: 1.0000\n"
          ]
        }
      ]
    },
    {
      "cell_type": "markdown",
      "source": [
        "# Регрессия с помощью PyTorch"
      ],
      "metadata": {
        "id": "FYr6dV88c1fT"
      }
    },
    {
      "cell_type": "code",
      "source": [
        "import matplotlib.pyplot as plt\n",
        "import math\n",
        "import torch\n",
        "import torch.nn as nn\n",
        "import torch.nn.functional as F\n",
        "import torchvision\n",
        "from torch.utils.data import DataLoader, TensorDataset, random_split"
      ],
      "metadata": {
        "id": "5t1pnoK-e0Y3"
      },
      "execution_count": null,
      "outputs": []
    },
    {
      "cell_type": "code",
      "source": [
        "wine_url = \"https://nagornyy.me/datasets/wine_reviews.csv.zip\"\n",
        "df_wine = pd.read_csv(wine_url)\n",
        "# импортируем данные вин, удаляем вина без рейтинга или без цены\n",
        "df_wine.dropna(subset=[\"points\", \"price\"], inplace=True)\n",
        "df_wine.shape"
      ],
      "metadata": {
        "colab": {
          "base_uri": "https://localhost:8080/"
        },
        "id": "G3pKcb9mch9S",
        "outputId": "bcc94270-d3ad-4abe-df2c-8c2900300d59"
      },
      "execution_count": null,
      "outputs": [
        {
          "output_type": "execute_result",
          "data": {
            "text/plain": [
              "(18198, 10)"
            ]
          },
          "metadata": {},
          "execution_count": 88
        }
      ]
    },
    {
      "cell_type": "code",
      "source": [
        "df_wine.head()"
      ],
      "metadata": {
        "colab": {
          "base_uri": "https://localhost:8080/",
          "height": 275
        },
        "id": "TWZBGEbVhc95",
        "outputId": "1922c9a9-3376-4d0e-ffa7-cec935e85eec"
      },
      "execution_count": null,
      "outputs": [
        {
          "output_type": "execute_result",
          "data": {
            "text/plain": [
              "  country                                        description designation  \\\n",
              "0      US  With a delicate, silky mouthfeel and bright ac...         NaN   \n",
              "1   Italy  D'Alceo is a drop dead gorgeous wine that ooze...     D'Alceo   \n",
              "2  France  The great dominance of Cabernet Sauvignon in t...         NaN   \n",
              "3   Italy  The modest cherry, dark berry and black tea no...         NaN   \n",
              "4      US  Exceedingly light in color, scent and flavor, ...         NaN   \n",
              "\n",
              "   points  price    province          region_1         region_2  \\\n",
              "0      86   23.0  California     Central Coast    Central Coast   \n",
              "1      96  275.0     Tuscany           Toscana              NaN   \n",
              "2      91   40.0    Bordeaux        Haut-Médoc              NaN   \n",
              "3      81   15.0     Tuscany  Chianti Classico              NaN   \n",
              "4      83   25.0      Oregon      Rogue Valley  Southern Oregon   \n",
              "\n",
              "                    variety                 winery  \n",
              "0                Pinot Noir        MacMurray Ranch  \n",
              "1                 Red Blend  Castello dei Rampolla  \n",
              "2  Bordeaux-style Red Blend     Château Bernadotte  \n",
              "3                Sangiovese                Valiano  \n",
              "4                Pinot Noir             Deer Creek  "
            ],
            "text/html": [
              "\n",
              "  <div id=\"df-e413344b-a96c-4ca8-9737-a32eb5444977\" class=\"colab-df-container\">\n",
              "    <div>\n",
              "<style scoped>\n",
              "    .dataframe tbody tr th:only-of-type {\n",
              "        vertical-align: middle;\n",
              "    }\n",
              "\n",
              "    .dataframe tbody tr th {\n",
              "        vertical-align: top;\n",
              "    }\n",
              "\n",
              "    .dataframe thead th {\n",
              "        text-align: right;\n",
              "    }\n",
              "</style>\n",
              "<table border=\"1\" class=\"dataframe\">\n",
              "  <thead>\n",
              "    <tr style=\"text-align: right;\">\n",
              "      <th></th>\n",
              "      <th>country</th>\n",
              "      <th>description</th>\n",
              "      <th>designation</th>\n",
              "      <th>points</th>\n",
              "      <th>price</th>\n",
              "      <th>province</th>\n",
              "      <th>region_1</th>\n",
              "      <th>region_2</th>\n",
              "      <th>variety</th>\n",
              "      <th>winery</th>\n",
              "    </tr>\n",
              "  </thead>\n",
              "  <tbody>\n",
              "    <tr>\n",
              "      <th>0</th>\n",
              "      <td>US</td>\n",
              "      <td>With a delicate, silky mouthfeel and bright ac...</td>\n",
              "      <td>NaN</td>\n",
              "      <td>86</td>\n",
              "      <td>23.0</td>\n",
              "      <td>California</td>\n",
              "      <td>Central Coast</td>\n",
              "      <td>Central Coast</td>\n",
              "      <td>Pinot Noir</td>\n",
              "      <td>MacMurray Ranch</td>\n",
              "    </tr>\n",
              "    <tr>\n",
              "      <th>1</th>\n",
              "      <td>Italy</td>\n",
              "      <td>D'Alceo is a drop dead gorgeous wine that ooze...</td>\n",
              "      <td>D'Alceo</td>\n",
              "      <td>96</td>\n",
              "      <td>275.0</td>\n",
              "      <td>Tuscany</td>\n",
              "      <td>Toscana</td>\n",
              "      <td>NaN</td>\n",
              "      <td>Red Blend</td>\n",
              "      <td>Castello dei Rampolla</td>\n",
              "    </tr>\n",
              "    <tr>\n",
              "      <th>2</th>\n",
              "      <td>France</td>\n",
              "      <td>The great dominance of Cabernet Sauvignon in t...</td>\n",
              "      <td>NaN</td>\n",
              "      <td>91</td>\n",
              "      <td>40.0</td>\n",
              "      <td>Bordeaux</td>\n",
              "      <td>Haut-Médoc</td>\n",
              "      <td>NaN</td>\n",
              "      <td>Bordeaux-style Red Blend</td>\n",
              "      <td>Château Bernadotte</td>\n",
              "    </tr>\n",
              "    <tr>\n",
              "      <th>3</th>\n",
              "      <td>Italy</td>\n",
              "      <td>The modest cherry, dark berry and black tea no...</td>\n",
              "      <td>NaN</td>\n",
              "      <td>81</td>\n",
              "      <td>15.0</td>\n",
              "      <td>Tuscany</td>\n",
              "      <td>Chianti Classico</td>\n",
              "      <td>NaN</td>\n",
              "      <td>Sangiovese</td>\n",
              "      <td>Valiano</td>\n",
              "    </tr>\n",
              "    <tr>\n",
              "      <th>4</th>\n",
              "      <td>US</td>\n",
              "      <td>Exceedingly light in color, scent and flavor, ...</td>\n",
              "      <td>NaN</td>\n",
              "      <td>83</td>\n",
              "      <td>25.0</td>\n",
              "      <td>Oregon</td>\n",
              "      <td>Rogue Valley</td>\n",
              "      <td>Southern Oregon</td>\n",
              "      <td>Pinot Noir</td>\n",
              "      <td>Deer Creek</td>\n",
              "    </tr>\n",
              "  </tbody>\n",
              "</table>\n",
              "</div>\n",
              "    <div class=\"colab-df-buttons\">\n",
              "\n",
              "  <div class=\"colab-df-container\">\n",
              "    <button class=\"colab-df-convert\" onclick=\"convertToInteractive('df-e413344b-a96c-4ca8-9737-a32eb5444977')\"\n",
              "            title=\"Convert this dataframe to an interactive table.\"\n",
              "            style=\"display:none;\">\n",
              "\n",
              "  <svg xmlns=\"http://www.w3.org/2000/svg\" height=\"24px\" viewBox=\"0 -960 960 960\">\n",
              "    <path d=\"M120-120v-720h720v720H120Zm60-500h600v-160H180v160Zm220 220h160v-160H400v160Zm0 220h160v-160H400v160ZM180-400h160v-160H180v160Zm440 0h160v-160H620v160ZM180-180h160v-160H180v160Zm440 0h160v-160H620v160Z\"/>\n",
              "  </svg>\n",
              "    </button>\n",
              "\n",
              "  <style>\n",
              "    .colab-df-container {\n",
              "      display:flex;\n",
              "      gap: 12px;\n",
              "    }\n",
              "\n",
              "    .colab-df-convert {\n",
              "      background-color: #E8F0FE;\n",
              "      border: none;\n",
              "      border-radius: 50%;\n",
              "      cursor: pointer;\n",
              "      display: none;\n",
              "      fill: #1967D2;\n",
              "      height: 32px;\n",
              "      padding: 0 0 0 0;\n",
              "      width: 32px;\n",
              "    }\n",
              "\n",
              "    .colab-df-convert:hover {\n",
              "      background-color: #E2EBFA;\n",
              "      box-shadow: 0px 1px 2px rgba(60, 64, 67, 0.3), 0px 1px 3px 1px rgba(60, 64, 67, 0.15);\n",
              "      fill: #174EA6;\n",
              "    }\n",
              "\n",
              "    .colab-df-buttons div {\n",
              "      margin-bottom: 4px;\n",
              "    }\n",
              "\n",
              "    [theme=dark] .colab-df-convert {\n",
              "      background-color: #3B4455;\n",
              "      fill: #D2E3FC;\n",
              "    }\n",
              "\n",
              "    [theme=dark] .colab-df-convert:hover {\n",
              "      background-color: #434B5C;\n",
              "      box-shadow: 0px 1px 3px 1px rgba(0, 0, 0, 0.15);\n",
              "      filter: drop-shadow(0px 1px 2px rgba(0, 0, 0, 0.3));\n",
              "      fill: #FFFFFF;\n",
              "    }\n",
              "  </style>\n",
              "\n",
              "    <script>\n",
              "      const buttonEl =\n",
              "        document.querySelector('#df-e413344b-a96c-4ca8-9737-a32eb5444977 button.colab-df-convert');\n",
              "      buttonEl.style.display =\n",
              "        google.colab.kernel.accessAllowed ? 'block' : 'none';\n",
              "\n",
              "      async function convertToInteractive(key) {\n",
              "        const element = document.querySelector('#df-e413344b-a96c-4ca8-9737-a32eb5444977');\n",
              "        const dataTable =\n",
              "          await google.colab.kernel.invokeFunction('convertToInteractive',\n",
              "                                                    [key], {});\n",
              "        if (!dataTable) return;\n",
              "\n",
              "        const docLinkHtml = 'Like what you see? Visit the ' +\n",
              "          '<a target=\"_blank\" href=https://colab.research.google.com/notebooks/data_table.ipynb>data table notebook</a>'\n",
              "          + ' to learn more about interactive tables.';\n",
              "        element.innerHTML = '';\n",
              "        dataTable['output_type'] = 'display_data';\n",
              "        await google.colab.output.renderOutput(dataTable, element);\n",
              "        const docLink = document.createElement('div');\n",
              "        docLink.innerHTML = docLinkHtml;\n",
              "        element.appendChild(docLink);\n",
              "      }\n",
              "    </script>\n",
              "  </div>\n",
              "\n",
              "\n",
              "<div id=\"df-84d661ea-1e07-430e-8b03-be630e690d90\">\n",
              "  <button class=\"colab-df-quickchart\" onclick=\"quickchart('df-84d661ea-1e07-430e-8b03-be630e690d90')\"\n",
              "            title=\"Suggest charts\"\n",
              "            style=\"display:none;\">\n",
              "\n",
              "<svg xmlns=\"http://www.w3.org/2000/svg\" height=\"24px\"viewBox=\"0 0 24 24\"\n",
              "     width=\"24px\">\n",
              "    <g>\n",
              "        <path d=\"M19 3H5c-1.1 0-2 .9-2 2v14c0 1.1.9 2 2 2h14c1.1 0 2-.9 2-2V5c0-1.1-.9-2-2-2zM9 17H7v-7h2v7zm4 0h-2V7h2v10zm4 0h-2v-4h2v4z\"/>\n",
              "    </g>\n",
              "</svg>\n",
              "  </button>\n",
              "\n",
              "<style>\n",
              "  .colab-df-quickchart {\n",
              "      --bg-color: #E8F0FE;\n",
              "      --fill-color: #1967D2;\n",
              "      --hover-bg-color: #E2EBFA;\n",
              "      --hover-fill-color: #174EA6;\n",
              "      --disabled-fill-color: #AAA;\n",
              "      --disabled-bg-color: #DDD;\n",
              "  }\n",
              "\n",
              "  [theme=dark] .colab-df-quickchart {\n",
              "      --bg-color: #3B4455;\n",
              "      --fill-color: #D2E3FC;\n",
              "      --hover-bg-color: #434B5C;\n",
              "      --hover-fill-color: #FFFFFF;\n",
              "      --disabled-bg-color: #3B4455;\n",
              "      --disabled-fill-color: #666;\n",
              "  }\n",
              "\n",
              "  .colab-df-quickchart {\n",
              "    background-color: var(--bg-color);\n",
              "    border: none;\n",
              "    border-radius: 50%;\n",
              "    cursor: pointer;\n",
              "    display: none;\n",
              "    fill: var(--fill-color);\n",
              "    height: 32px;\n",
              "    padding: 0;\n",
              "    width: 32px;\n",
              "  }\n",
              "\n",
              "  .colab-df-quickchart:hover {\n",
              "    background-color: var(--hover-bg-color);\n",
              "    box-shadow: 0 1px 2px rgba(60, 64, 67, 0.3), 0 1px 3px 1px rgba(60, 64, 67, 0.15);\n",
              "    fill: var(--button-hover-fill-color);\n",
              "  }\n",
              "\n",
              "  .colab-df-quickchart-complete:disabled,\n",
              "  .colab-df-quickchart-complete:disabled:hover {\n",
              "    background-color: var(--disabled-bg-color);\n",
              "    fill: var(--disabled-fill-color);\n",
              "    box-shadow: none;\n",
              "  }\n",
              "\n",
              "  .colab-df-spinner {\n",
              "    border: 2px solid var(--fill-color);\n",
              "    border-color: transparent;\n",
              "    border-bottom-color: var(--fill-color);\n",
              "    animation:\n",
              "      spin 1s steps(1) infinite;\n",
              "  }\n",
              "\n",
              "  @keyframes spin {\n",
              "    0% {\n",
              "      border-color: transparent;\n",
              "      border-bottom-color: var(--fill-color);\n",
              "      border-left-color: var(--fill-color);\n",
              "    }\n",
              "    20% {\n",
              "      border-color: transparent;\n",
              "      border-left-color: var(--fill-color);\n",
              "      border-top-color: var(--fill-color);\n",
              "    }\n",
              "    30% {\n",
              "      border-color: transparent;\n",
              "      border-left-color: var(--fill-color);\n",
              "      border-top-color: var(--fill-color);\n",
              "      border-right-color: var(--fill-color);\n",
              "    }\n",
              "    40% {\n",
              "      border-color: transparent;\n",
              "      border-right-color: var(--fill-color);\n",
              "      border-top-color: var(--fill-color);\n",
              "    }\n",
              "    60% {\n",
              "      border-color: transparent;\n",
              "      border-right-color: var(--fill-color);\n",
              "    }\n",
              "    80% {\n",
              "      border-color: transparent;\n",
              "      border-right-color: var(--fill-color);\n",
              "      border-bottom-color: var(--fill-color);\n",
              "    }\n",
              "    90% {\n",
              "      border-color: transparent;\n",
              "      border-bottom-color: var(--fill-color);\n",
              "    }\n",
              "  }\n",
              "</style>\n",
              "\n",
              "  <script>\n",
              "    async function quickchart(key) {\n",
              "      const quickchartButtonEl =\n",
              "        document.querySelector('#' + key + ' button');\n",
              "      quickchartButtonEl.disabled = true;  // To prevent multiple clicks.\n",
              "      quickchartButtonEl.classList.add('colab-df-spinner');\n",
              "      try {\n",
              "        const charts = await google.colab.kernel.invokeFunction(\n",
              "            'suggestCharts', [key], {});\n",
              "      } catch (error) {\n",
              "        console.error('Error during call to suggestCharts:', error);\n",
              "      }\n",
              "      quickchartButtonEl.classList.remove('colab-df-spinner');\n",
              "      quickchartButtonEl.classList.add('colab-df-quickchart-complete');\n",
              "    }\n",
              "    (() => {\n",
              "      let quickchartButtonEl =\n",
              "        document.querySelector('#df-84d661ea-1e07-430e-8b03-be630e690d90 button');\n",
              "      quickchartButtonEl.style.display =\n",
              "        google.colab.kernel.accessAllowed ? 'block' : 'none';\n",
              "    })();\n",
              "  </script>\n",
              "</div>\n",
              "    </div>\n",
              "  </div>\n"
            ],
            "application/vnd.google.colaboratory.intrinsic+json": {
              "type": "dataframe",
              "variable_name": "df_wine",
              "summary": "{\n  \"name\": \"df_wine\",\n  \"rows\": 18198,\n  \"fields\": [\n    {\n      \"column\": \"country\",\n      \"properties\": {\n        \"dtype\": \"category\",\n        \"num_unique_values\": 37,\n        \"samples\": [\n          \"Hungary\",\n          \"Canada\",\n          \"Chile\"\n        ],\n        \"semantic_type\": \"\",\n        \"description\": \"\"\n      }\n    },\n    {\n      \"column\": \"description\",\n      \"properties\": {\n        \"dtype\": \"string\",\n        \"num_unique_values\": 17192,\n        \"samples\": [\n          \"Half Cab, one quarter Syrah, the rest split between Merlot and Grenache, this is destined to become a real favorite with steak lovers. It has just the right structure for beef, with layers of ripe red fruits, hints of fresh herb, stiff but not obtrusive tannins, and firm acids. There's a nice spicy pop to the finish from a bit of barrel time.\",\n          \"\\u201cL'Orage\\u201d means \\u201cthe storm,\\u201d  acknowledging a big blow that devastated the vineyard in June 2001. Sheridan is a rising star in the valley, and was first selected by Andrew Will's Chris Camarda for vineyard-designated status some years ago. This is the winery's own top wine, a cab-heavy Bordeaux blend. Gorgeously smooth and fragrant with sandalwood, cocoa, tobacco and black fruits, it was made by Charlie Hoppes in his silky, generous and seductive style. There is nothing hard, sharp, bitey or bitter, just big, smooth, voluptuous flavors, a generously broad palate and texture texture texture.\",\n          \"You'll recognize this Sangiovese immediately thanks to pristine notes of blue flowers, chalky soil, sage and Mediterranean herbs. It has a thinner, delicate texture in the mouth but ends with bright, vibrant crispness.\"\n        ],\n        \"semantic_type\": \"\",\n        \"description\": \"\"\n      }\n    },\n    {\n      \"column\": \"designation\",\n      \"properties\": {\n        \"dtype\": \"category\",\n        \"num_unique_values\": 8151,\n        \"samples\": [\n          \"Contrada Salvarenza Vecchie Vigne\",\n          \"Rosato\",\n          \"Weber Vineyards\"\n        ],\n        \"semantic_type\": \"\",\n        \"description\": \"\"\n      }\n    },\n    {\n      \"column\": \"points\",\n      \"properties\": {\n        \"dtype\": \"number\",\n        \"std\": 3,\n        \"min\": 80,\n        \"max\": 100,\n        \"num_unique_values\": 21,\n        \"samples\": [\n          86,\n          97,\n          95\n        ],\n        \"semantic_type\": \"\",\n        \"description\": \"\"\n      }\n    },\n    {\n      \"column\": \"price\",\n      \"properties\": {\n        \"dtype\": \"number\",\n        \"std\": 39.71668505161278,\n        \"min\": 5.0,\n        \"max\": 2300.0,\n        \"num_unique_values\": 210,\n        \"samples\": [\n          80.0,\n          426.0,\n          7.0\n        ],\n        \"semantic_type\": \"\",\n        \"description\": \"\"\n      }\n    },\n    {\n      \"column\": \"province\",\n      \"properties\": {\n        \"dtype\": \"category\",\n        \"num_unique_values\": 307,\n        \"samples\": [\n          \"Michigan\",\n          \"Alsace\",\n          \"Kamptal\"\n        ],\n        \"semantic_type\": \"\",\n        \"description\": \"\"\n      }\n    },\n    {\n      \"column\": \"region_1\",\n      \"properties\": {\n        \"dtype\": \"category\",\n        \"num_unique_values\": 834,\n        \"samples\": [\n          \"Tarragona\",\n          \"San Antonio Valley\",\n          \"Morey-Saint-Denis\"\n        ],\n        \"semantic_type\": \"\",\n        \"description\": \"\"\n      }\n    },\n    {\n      \"column\": \"region_2\",\n      \"properties\": {\n        \"dtype\": \"category\",\n        \"num_unique_values\": 18,\n        \"samples\": [\n          \"Central Coast\",\n          \"Southern Oregon\",\n          \"North Coast\"\n        ],\n        \"semantic_type\": \"\",\n        \"description\": \"\"\n      }\n    },\n    {\n      \"column\": \"variety\",\n      \"properties\": {\n        \"dtype\": \"category\",\n        \"num_unique_values\": 406,\n        \"samples\": [\n          \"Malbec-Cabernet Sauvignon\",\n          \"Moscadello\",\n          \"Fer Servadou\"\n        ],\n        \"semantic_type\": \"\",\n        \"description\": \"\"\n      }\n    },\n    {\n      \"column\": \"winery\",\n      \"properties\": {\n        \"dtype\": \"category\",\n        \"num_unique_values\": 6836,\n        \"samples\": [\n          \"Fidelity\",\n          \"Region 1\",\n          \"Efeste\"\n        ],\n        \"semantic_type\": \"\",\n        \"description\": \"\"\n      }\n    }\n  ]\n}"
            }
          },
          "metadata": {},
          "execution_count": 89
        }
      ]
    },
    {
      "cell_type": "code",
      "source": [
        "y = df_wine.points.values\n",
        "X = np.log(df_wine.price.values) # обозначаем зависимую и независимую переменные"
      ],
      "metadata": {
        "id": "Suw_vRrqeuaM"
      },
      "execution_count": null,
      "outputs": []
    },
    {
      "cell_type": "code",
      "source": [
        "y_tensor = torch.from_numpy(y.reshape(-1, 1)).float()\n",
        "X_tensor = torch.from_numpy(X.reshape(-1, 1)).float() # присваиваем переменные в тензоры для работы с PyTorch"
      ],
      "metadata": {
        "id": "eYDLzUx8f7ej"
      },
      "execution_count": null,
      "outputs": []
    },
    {
      "cell_type": "code",
      "source": [
        "def lin_reg_model(X, w, a): # определяем функцию линейной регрессии\n",
        "    return X @ w.t() + a\n",
        "\n",
        "def mse(true, predicted): # считаем оценку модели\n",
        "    return ((true - predicted) ** 2).sum() / true.numel()"
      ],
      "metadata": {
        "id": "Wi0XYlPYmH7-"
      },
      "execution_count": null,
      "outputs": []
    },
    {
      "cell_type": "code",
      "source": [
        "# задаём начальные веса параметров, чтобы найти минимум функции потерь\n",
        "weight = torch.randn(y_tensor.shape[1], X_tensor.shape[1]) / math.sqrt(2 / y_tensor.shape[1])\n",
        "bias = torch.zeros(y_tensor.shape[1])\n",
        "# начинаем записывать историю вычислений\n",
        "weight.requires_grad_(True)\n",
        "bias.requires_grad_(True);"
      ],
      "metadata": {
        "id": "Tp9wXZSNmZ1L"
      },
      "execution_count": null,
      "outputs": []
    },
    {
      "cell_type": "code",
      "source": [
        "learning_rate = 0.01\n",
        "epochs = 10000\n",
        "\n",
        "for epoch in range(epochs):\n",
        "    # вычисляем функцию потерь\n",
        "    predictions = lin_reg_model(X_tensor, weight, bias)\n",
        "    loss = mse(predictions, y_tensor)\n",
        "    loss.backward()\n",
        "    # вычитаем производные из параметров\n",
        "    # записывать историю вычислений уже не нужно (no_grad)\n",
        "    with torch.no_grad():\n",
        "        weight -= weight.grad * learning_rate\n",
        "        bias -= bias.grad * learning_rate\n",
        "        # обнуляем производные\n",
        "        weight.grad.zero_()\n",
        "        bias.grad.zero_()\n",
        "    # выводим значение фукнции потерь каждые 2000 повторов\n",
        "    if (epoch + 1) % (epochs / 10) == 0:\n",
        "        print('epoch {}, loss {}'.format(epoch, loss.item()))"
      ],
      "metadata": {
        "colab": {
          "base_uri": "https://localhost:8080/"
        },
        "id": "V7Mo5TGUmcD1",
        "outputId": "6450d2b5-7eba-451b-abc7-6ef8c75b22fa"
      },
      "execution_count": null,
      "outputs": [
        {
          "output_type": "stream",
          "name": "stdout",
          "text": [
            "epoch 999, loss 53.415122985839844\n",
            "epoch 1999, loss 17.276302337646484\n",
            "epoch 2999, loss 9.018627166748047\n",
            "epoch 3999, loss 7.1317291259765625\n",
            "epoch 4999, loss 6.700572490692139\n",
            "epoch 5999, loss 6.602056980133057\n",
            "epoch 6999, loss 6.5795440673828125\n",
            "epoch 7999, loss 6.574398517608643\n",
            "epoch 8999, loss 6.573220729827881\n",
            "epoch 9999, loss 6.57295036315918\n"
          ]
        }
      ]
    }
  ]
}